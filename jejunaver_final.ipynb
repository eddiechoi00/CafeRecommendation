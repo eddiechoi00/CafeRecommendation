{
 "cells": [
  {
   "cell_type": "code",
   "execution_count": 1,
   "metadata": {},
   "outputs": [],
   "source": [
    "import pandas as pd\n",
    "import numpy as np\n",
    "import seaborn as sns\n",
    "import matplotlib.pyplot as plt\n",
    "\n",
    "from selenium import webdriver\n",
    "import time\n",
    "from bs4 import BeautifulSoup as bs\n",
    "import requests\n",
    "from selenium.webdriver.common.keys import Keys\n",
    "\n",
    "from datetime import datetime\n",
    "import threading"
   ]
  },
  {
   "cell_type": "code",
   "execution_count": 42,
   "metadata": {
    "scrolled": true
   },
   "outputs": [
    {
     "name": "stdout",
     "output_type": "stream",
     "text": [
      "검색하고싶은 지역을 입력하세요 : 애월읍 카페\n",
      "{'새빌': [4.03, '리뷰수: 250'], '봄날': [4.38, '리뷰수: 259'], '랜디스도넛 제주직영점': [4.23, '리뷰수: 323'], '초록달 과자점': [4.56, '리뷰수: 39'], '지금이순간카페': [4.44, '리뷰수: 233'], '애월더선셋': [4.02, '리뷰수: 109'], '너와의 첫여행': [4.62, '리뷰수: 57'], '인디안 썸머 애월': [4.88, '리뷰수: 20'], '마틸다': [4.43, '리뷰수: 38'], '썬셋클리프': [3.94, '리뷰수: 31'], '애월당 애월제과': [4.31, '리뷰수: 103'], '애월빵공장&카페': [4.04, '리뷰수: 35'], '리치망고 애월본점': [4.37, '리뷰수: 95'], '이너프': [4.31, '리뷰수: 32'], '카페브리프': [4.51, '리뷰수: 36'], '레이지펌프': [4.27, '리뷰수: 44'], '당당': [4.33, '리뷰수: 63'], '섬앤썸': [4.08, '리뷰수: 74'], '모립': [4.29, '리뷰수: 14'], '골목카페옥수': [4.5, '리뷰수: 17'], '정직한돈 본점': [4.63, '리뷰수: 79'], 'SALON de LAVANT': [4.64, '리뷰수: 11'], '버터모닝': [4.58, '리뷰수: 33'], '언니커피': [4.6, '리뷰수: 21']}\n"
     ]
    }
   ],
   "source": [
    "driver = webdriver.Chrome('./chromedriver')\n",
    "time.sleep(2)\n",
    "\n",
    "driver.get('https://v4.map.naver.com/')\n",
    "time.sleep(2)\n",
    "\n",
    "# 팝업창 지우기\n",
    "driver.find_element_by_xpath('//div[@id=\"dday_popup\"]//div[2]//button').click()\n",
    "\n",
    "word = input('검색하고싶은 지역을 입력하세요 : ')\n",
    "s = driver.find_element_by_id('search-input')\n",
    "s.send_keys(word)\n",
    "s.send_keys(Keys.RETURN)\n",
    "time.sleep(2)\n",
    "\n",
    "page = 1\n",
    "d = {}\n",
    "while len(d) < 20:\n",
    "    thread = threading.Thread(target = cafe(d))\n",
    "    thread.start()\n",
    "    thread.join()\n",
    "    nextPage(page, word)\n",
    "    time.sleep(2)\n",
    "    page += 1\n",
    "    \n",
    "#print(d)"
   ]
  },
  {
   "cell_type": "code",
   "execution_count": 55,
   "metadata": {},
   "outputs": [],
   "source": [
    "df = pd.DataFrame(d)"
   ]
  },
  {
   "cell_type": "code",
   "execution_count": 56,
   "metadata": {},
   "outputs": [],
   "source": [
    "df.index = ['별점', '리뷰수']"
   ]
  },
  {
   "cell_type": "code",
   "execution_count": 57,
   "metadata": {},
   "outputs": [
    {
     "data": {
      "text/html": [
       "<div>\n",
       "<style scoped>\n",
       "    .dataframe tbody tr th:only-of-type {\n",
       "        vertical-align: middle;\n",
       "    }\n",
       "\n",
       "    .dataframe tbody tr th {\n",
       "        vertical-align: top;\n",
       "    }\n",
       "\n",
       "    .dataframe thead th {\n",
       "        text-align: right;\n",
       "    }\n",
       "</style>\n",
       "<table border=\"1\" class=\"dataframe\">\n",
       "  <thead>\n",
       "    <tr style=\"text-align: right;\">\n",
       "      <th></th>\n",
       "      <th>별점</th>\n",
       "      <th>리뷰수</th>\n",
       "    </tr>\n",
       "  </thead>\n",
       "  <tbody>\n",
       "    <tr>\n",
       "      <th>새빌</th>\n",
       "      <td>4.03</td>\n",
       "      <td>리뷰수: 250</td>\n",
       "    </tr>\n",
       "    <tr>\n",
       "      <th>봄날</th>\n",
       "      <td>4.38</td>\n",
       "      <td>리뷰수: 259</td>\n",
       "    </tr>\n",
       "    <tr>\n",
       "      <th>랜디스도넛 제주직영점</th>\n",
       "      <td>4.23</td>\n",
       "      <td>리뷰수: 323</td>\n",
       "    </tr>\n",
       "    <tr>\n",
       "      <th>초록달 과자점</th>\n",
       "      <td>4.56</td>\n",
       "      <td>리뷰수: 39</td>\n",
       "    </tr>\n",
       "    <tr>\n",
       "      <th>지금이순간카페</th>\n",
       "      <td>4.44</td>\n",
       "      <td>리뷰수: 233</td>\n",
       "    </tr>\n",
       "  </tbody>\n",
       "</table>\n",
       "</div>"
      ],
      "text/plain": [
       "               별점       리뷰수\n",
       "새빌           4.03  리뷰수: 250\n",
       "봄날           4.38  리뷰수: 259\n",
       "랜디스도넛 제주직영점  4.23  리뷰수: 323\n",
       "초록달 과자점      4.56   리뷰수: 39\n",
       "지금이순간카페      4.44  리뷰수: 233"
      ]
     },
     "execution_count": 57,
     "metadata": {},
     "output_type": "execute_result"
    }
   ],
   "source": [
    "df = df.T\n",
    "df.head()"
   ]
  },
  {
   "cell_type": "code",
   "execution_count": 58,
   "metadata": {},
   "outputs": [],
   "source": [
    "df.리뷰수 = df.리뷰수.apply(lambda x : int(x.split(' ')[1]))"
   ]
  },
  {
   "cell_type": "code",
   "execution_count": 60,
   "metadata": {},
   "outputs": [],
   "source": [
    "df.to_excel('애월읍카페_네이버.xlsx')"
   ]
  },
  {
   "cell_type": "code",
   "execution_count": 40,
   "metadata": {},
   "outputs": [
    {
     "data": {
      "text/plain": [
       "26"
      ]
     },
     "execution_count": 40,
     "metadata": {},
     "output_type": "execute_result"
    }
   ],
   "source": [
    "len(d)"
   ]
  },
  {
   "cell_type": "code",
   "execution_count": 41,
   "metadata": {},
   "outputs": [],
   "source": [
    "def reviewCrawl(summ, count, month, page, nid):\n",
    "    # 카페마다 영수증 리뷰보기\n",
    "    url = 'https://store.naver.com/restaurants/detail?id={}&tab=receiptReview&tabPage={}'.format(nid, page)\n",
    "    driver.get(url)\n",
    "    time.sleep(2)\n",
    "    html = driver.page_source\n",
    "    soup = bs(html, 'html.parser')\n",
    "    ul1 = soup.select('ul.list_receipt_review')\n",
    "    lis1 = ul1[0].select('li')\n",
    "    date = []\n",
    "    for i in lis1:\n",
    "        if month == '06':  # 월은 유동적으로 바꿀수있습니다\n",
    "            c = '리뷰수: ' + str(count)\n",
    "            return [round((summ / count), 2), c]\n",
    "        s = float(i.select('span.score')[0].text) # 별점\n",
    "        summ += s   # 별점의 합\n",
    "        count += 1  # 리뷰의 수\n",
    "        month = i.select('div.reviewer_area > div.reviewer > span')[0].text.split('.')[1]  # 리뷰가 작성된 월\n",
    "    \n",
    "    # Recursive function; 함수 안에서 같은 함수 부르기; 페이지 넘길때 쓰는용도\n",
    "    return reviewCrawl(summ, count, month, page + 1, nid)"
   ]
  },
  {
   "cell_type": "code",
   "execution_count": 29,
   "metadata": {},
   "outputs": [],
   "source": [
    "def cafe(d):\n",
    "    html = driver.page_source\n",
    "    soup = bs(html, 'html.parser')\n",
    "    ul = soup.select('ul.lst_site')\n",
    "    lis = ul[0].select('li.detail')\n",
    "\n",
    "    for li in lis:\n",
    "        try:\n",
    "            summ = 0\n",
    "            count = 0\n",
    "            month = ''\n",
    "            page = 1\n",
    "            nid = li.select('a')[0]['data-id'][1:] # 카페의 고유 ID 뽑기\n",
    "            url = 'https://store.naver.com/restaurants/detail?id={}'.format(nid) # 카페 상세페이지 들어가기\n",
    "            driver.get(url)\n",
    "            time.sleep(2)\n",
    "            html = driver.page_source\n",
    "            soup = bs(html, 'html.parser')\n",
    "            key = soup.select('strong.name')[0].text  # 카페 이름\n",
    "            avg = reviewCrawl(summ, count, month, page, nid) # 별점 평균\n",
    "            d[key] = avg  # 카페와 평균 별점을 dict에 저장\n",
    "        except:\n",
    "            continue # 리뷰가 없으면 건너뛰기"
   ]
  },
  {
   "cell_type": "code",
   "execution_count": 36,
   "metadata": {},
   "outputs": [],
   "source": [
    "def nextPage(page, word):\n",
    "    driver.get('https://v4.map.naver.com/')\n",
    "    driver.find_element_by_xpath('//div[@id=\"dday_popup\"]//div[2]//button').click()\n",
    "    time.sleep(2)\n",
    "    search(word)\n",
    "    time.sleep(2)\n",
    "    if page % 5 == 0:\n",
    "        driver.find_element_by_link_text('다음').click()\n",
    "    else:\n",
    "        driver.find_element_by_link_text(str(page+1)).click()"
   ]
  },
  {
   "cell_type": "code",
   "execution_count": 32,
   "metadata": {},
   "outputs": [],
   "source": [
    "def search(word):\n",
    "    s = driver.find_element_by_id('search-input')\n",
    "    s.send_keys(word)\n",
    "    s.send_keys(Keys.RETURN)"
   ]
  },
  {
   "cell_type": "code",
   "execution_count": null,
   "metadata": {},
   "outputs": [],
   "source": []
  }
 ],
 "metadata": {
  "kernelspec": {
   "display_name": "Python 3",
   "language": "python",
   "name": "python3"
  },
  "language_info": {
   "codemirror_mode": {
    "name": "ipython",
    "version": 3
   },
   "file_extension": ".py",
   "mimetype": "text/x-python",
   "name": "python",
   "nbconvert_exporter": "python",
   "pygments_lexer": "ipython3",
   "version": "3.8.3"
  }
 },
 "nbformat": 4,
 "nbformat_minor": 4
}
